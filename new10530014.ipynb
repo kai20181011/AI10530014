{
  "nbformat": 4,
  "nbformat_minor": 0,
  "metadata": {
    "colab": {
      "name": "Tensorflow_Mnist_CNN1-1.ipynb",
      "version": "0.3.2",
      "provenance": [],
      "collapsed_sections": [
        "dw7asCPdFu1a",
        "I2SrL2afFu1g",
        "NnzNt_k5Fu1j",
        "JX7pr-smFu1n"
      ]
    },
    "kernelspec": {
      "display_name": "Python 3",
      "language": "python",
      "name": "python3"
    }
  },
  "cells": [
    {
      "metadata": {
        "id": "UuAenuQVFu03",
        "colab_type": "text"
      },
      "cell_type": "markdown",
      "source": [
        "# 資料準備"
      ]
    },
    {
      "metadata": {
        "id": "8g5QMsvOFu04",
        "colab_type": "code",
        "outputId": "302742c0-5fcc-4252-e73b-82cd30599426",
        "colab": {
          "base_uri": "https://localhost:8080/",
          "height": 153
        }
      },
      "cell_type": "code",
      "source": [
        "import tensorflow as tf\n",
        "import tensorflow.examples.tutorials.mnist.input_data as input_data\n",
        "mnist = input_data.read_data_sets(\"MNIST_data/\", one_hot=True)"
      ],
      "execution_count": 0,
      "outputs": [
        {
          "output_type": "stream",
          "text": [
            "Successfully downloaded train-images-idx3-ubyte.gz 9912422 bytes.\n",
            "Extracting MNIST_data/train-images-idx3-ubyte.gz\n",
            "Successfully downloaded train-labels-idx1-ubyte.gz 28881 bytes.\n",
            "Extracting MNIST_data/train-labels-idx1-ubyte.gz\n",
            "Successfully downloaded t10k-images-idx3-ubyte.gz 1648877 bytes.\n",
            "Extracting MNIST_data/t10k-images-idx3-ubyte.gz\n",
            "Successfully downloaded t10k-labels-idx1-ubyte.gz 4542 bytes.\n",
            "Extracting MNIST_data/t10k-labels-idx1-ubyte.gz\n"
          ],
          "name": "stdout"
        }
      ]
    },
    {
      "metadata": {
        "id": "JYHGdlp6Fu09",
        "colab_type": "text"
      },
      "cell_type": "markdown",
      "source": [
        "# 建立共用函數"
      ]
    },
    {
      "metadata": {
        "id": "z9_pvSGQFu0_",
        "colab_type": "code",
        "colab": {}
      },
      "cell_type": "code",
      "source": [
        "def weight(shape):\n",
        "    return tf.Variable(tf.truncated_normal(shape, stddev=0.1),\n",
        "                       name ='W')"
      ],
      "execution_count": 0,
      "outputs": []
    },
    {
      "metadata": {
        "id": "RxqykS5gFu1A",
        "colab_type": "code",
        "colab": {}
      },
      "cell_type": "code",
      "source": [
        "def bias(shape):\n",
        "    return tf.Variable(tf.constant(0.1, shape=shape)\n",
        "                       , name = 'b')"
      ],
      "execution_count": 0,
      "outputs": []
    },
    {
      "metadata": {
        "id": "uoKrGoQpFu1E",
        "colab_type": "code",
        "colab": {}
      },
      "cell_type": "code",
      "source": [
        "def conv2d(x, W):\n",
        "    return tf.nn.conv2d(x, W, strides=[1,1,1,1], \n",
        "                        padding='SAME')"
      ],
      "execution_count": 0,
      "outputs": []
    },
    {
      "metadata": {
        "id": "gFcU0bfKFu1G",
        "colab_type": "code",
        "colab": {}
      },
      "cell_type": "code",
      "source": [
        "def max_pool_2x2(x):\n",
        "    return tf.nn.max_pool(x, ksize=[1,2,2,1], \n",
        "                          strides=[1,2,2,1], \n",
        "                          padding='SAME')"
      ],
      "execution_count": 0,
      "outputs": []
    },
    {
      "metadata": {
        "collapsed": true,
        "id": "xhWUNrkiFu1I",
        "colab_type": "text"
      },
      "cell_type": "markdown",
      "source": [
        "# 輸入層 Input Layer"
      ]
    },
    {
      "metadata": {
        "id": "E1AXW98AFu1J",
        "colab_type": "code",
        "colab": {}
      },
      "cell_type": "code",
      "source": [
        "with tf.name_scope('Input_Layer'):\n",
        "    x = tf.placeholder(\"float\",shape=[None, 784]\n",
        "                       ,name=\"x\")    \n",
        "    x_image = tf.reshape(x, [-1, 28, 28, 1])"
      ],
      "execution_count": 0,
      "outputs": []
    },
    {
      "metadata": {
        "id": "jO7dzbINFu1M",
        "colab_type": "text"
      },
      "cell_type": "markdown",
      "source": [
        "# Convolutional Layer 1"
      ]
    },
    {
      "metadata": {
        "id": "3PGNttZ3Fu1N",
        "colab_type": "code",
        "colab": {}
      },
      "cell_type": "code",
      "source": [
        "with tf.name_scope('C1_Conv'):\n",
        "    W1 = weight([5,5,1,16])\n",
        "    b1 = bias([16])\n",
        "    Conv1=conv2d(x_image, W1)+ b1\n",
        "    C1_Conv = tf.nn.relu(Conv1 )"
      ],
      "execution_count": 0,
      "outputs": []
    },
    {
      "metadata": {
        "id": "Zk9CftCTFu1P",
        "colab_type": "code",
        "colab": {}
      },
      "cell_type": "code",
      "source": [
        "with tf.name_scope('C1_Pool'):\n",
        "    C1_Pool = max_pool_2x2(C1_Conv)"
      ],
      "execution_count": 0,
      "outputs": []
    },
    {
      "metadata": {
        "id": "ILAvhRMHFu1S",
        "colab_type": "text"
      },
      "cell_type": "markdown",
      "source": [
        "# Convolutional Layer 2"
      ]
    },
    {
      "metadata": {
        "id": "qj1RrltrFu1S",
        "colab_type": "code",
        "colab": {}
      },
      "cell_type": "code",
      "source": [
        "with tf.name_scope('C2_Conv'):\n",
        "    W2 = weight([5,5,16,36])\n",
        "    b2 = bias([36])\n",
        "    Conv2=conv2d(C1_Pool, W2)+ b2\n",
        "    C2_Conv = tf.nn.relu(Conv2)"
      ],
      "execution_count": 0,
      "outputs": []
    },
    {
      "metadata": {
        "id": "7k2Ziz50Fu1X",
        "colab_type": "code",
        "colab": {}
      },
      "cell_type": "code",
      "source": [
        "with tf.name_scope('C2_Pool'):\n",
        "    C2_Pool = max_pool_2x2(C2_Conv) "
      ],
      "execution_count": 0,
      "outputs": []
    },
    {
      "metadata": {
        "id": "dw7asCPdFu1a",
        "colab_type": "text"
      },
      "cell_type": "markdown",
      "source": [
        "# Fully Connected Layer"
      ]
    },
    {
      "metadata": {
        "id": "OD1wWvs_Fu1a",
        "colab_type": "code",
        "colab": {}
      },
      "cell_type": "code",
      "source": [
        "with tf.name_scope('D_Flat'):\n",
        "    D_Flat = tf.reshape(C2_Pool, [-1, 1764])"
      ],
      "execution_count": 0,
      "outputs": []
    },
    {
      "metadata": {
        "id": "52_hJkhhFu1e",
        "colab_type": "code",
        "colab": {}
      },
      "cell_type": "code",
      "source": [
        "with tf.name_scope('D_Hidden_Layer'):\n",
        "    W3= weight([1764, 128])\n",
        "    b3= bias([128])\n",
        "    D_Hidden = tf.nn.relu(\n",
        "                  tf.matmul(D_Flat, W3)+b3)\n",
        "    D_Hidden_Dropout= tf.nn.dropout(D_Hidden, \n",
        "                                keep_prob=0.8)"
      ],
      "execution_count": 0,
      "outputs": []
    },
    {
      "metadata": {
        "collapsed": true,
        "id": "I2SrL2afFu1g",
        "colab_type": "text"
      },
      "cell_type": "markdown",
      "source": [
        "# 輸出層Output"
      ]
    },
    {
      "metadata": {
        "id": "hTGbeVqfFu1h",
        "colab_type": "code",
        "colab": {}
      },
      "cell_type": "code",
      "source": [
        "with tf.name_scope('Output_Layer'):\n",
        "    W4 = weight([128,10])\n",
        "    b4 = bias([10])\n",
        "    y_predict= tf.nn.softmax(\n",
        "                 tf.matmul(D_Hidden_Dropout,\n",
        "                           W4)+b4)"
      ],
      "execution_count": 0,
      "outputs": []
    },
    {
      "metadata": {
        "id": "NnzNt_k5Fu1j",
        "colab_type": "text"
      },
      "cell_type": "markdown",
      "source": [
        "# 設定訓練模型最佳化步驟"
      ]
    },
    {
      "metadata": {
        "id": "L00RQijfFu1k",
        "colab_type": "code",
        "colab": {}
      },
      "cell_type": "code",
      "source": [
        "with tf.name_scope(\"optimizer\"):\n",
        "    \n",
        "    y_label = tf.placeholder(\"float\", shape=[None, 10], \n",
        "                              name=\"y_label\")\n",
        "    \n",
        "    loss_function = tf.reduce_mean(\n",
        "                      tf.nn.softmax_cross_entropy_with_logits\n",
        "                         (logits=y_predict , \n",
        "                          labels=y_label))\n",
        "    \n",
        "    optimizer = tf.train.AdamOptimizer(learning_rate=0.0001) \\\n",
        "                    .minimize(loss_function)"
      ],
      "execution_count": 0,
      "outputs": []
    },
    {
      "metadata": {
        "id": "JX7pr-smFu1n",
        "colab_type": "text"
      },
      "cell_type": "markdown",
      "source": [
        "# 設定評估模型"
      ]
    },
    {
      "metadata": {
        "id": "Eb3izKvpFu1o",
        "colab_type": "code",
        "colab": {}
      },
      "cell_type": "code",
      "source": [
        "with tf.name_scope(\"evaluate_model\"):\n",
        "    correct_prediction = tf.equal(tf.argmax(y_predict, 1),\n",
        "                                  tf.argmax(y_label, 1))\n",
        "    accuracy = tf.reduce_mean(tf.cast(correct_prediction, \"float\"))"
      ],
      "execution_count": 0,
      "outputs": []
    },
    {
      "metadata": {
        "id": "0dB4wRRGFu1s",
        "colab_type": "text"
      },
      "cell_type": "markdown",
      "source": [
        "# 訓練模型"
      ]
    },
    {
      "metadata": {
        "id": "ypBPODrwFu1t",
        "colab_type": "code",
        "colab": {}
      },
      "cell_type": "code",
      "source": [
        "trainEpochs = 30\n",
        "batchSize = 100\n",
        "totalBatchs = int(mnist.train.num_examples/batchSize)\n",
        "epoch_list=[];accuracy_list=[];loss_list=[];\n",
        "from time import time\n",
        "startTime=time()\n",
        "sess = tf.Session()\n",
        "sess.run(tf.global_variables_initializer())"
      ],
      "execution_count": 0,
      "outputs": []
    },
    {
      "metadata": {
        "id": "yHq9EuZxFu1w",
        "colab_type": "code",
        "outputId": "03e42466-aba7-453c-953b-84b89d991824",
        "colab": {
          "base_uri": "https://localhost:8080/",
          "height": 964
        }
      },
      "cell_type": "code",
      "source": [
        "for epoch in range(trainEpochs):\n",
        "\n",
        "    \n",
        "    for i in range(totalBatchs):\n",
        "        batch_x, batch_y = mnist.train.next_batch(batchSize)\n",
        "        sess.run(optimizer,feed_dict={x: batch_x,\n",
        "                                      y_label: batch_y})\n",
        "        \n",
        "    \n",
        "    loss,acc = sess.run([loss_function,accuracy],\n",
        "                        feed_dict={x: mnist.validation.images, \n",
        "                                   y_label: mnist.validation.labels})\n",
        "\n",
        "    epoch_list.append(epoch)\n",
        "    loss_list.append(loss);accuracy_list.append(acc)    \n",
        "    \n",
        "    print(\"Train Epoch:\", '%02d' % (epoch+1), \\\n",
        "          \"Loss=\",\"{:.9f}\".format(loss),\" Accuracy=\",acc)\n",
        "    \n",
        "duration =time()-startTime\n",
        "print(\"Train Finished takes:\",duration)         "
      ],
      "execution_count": 0,
      "outputs": [
        {
          "output_type": "stream",
          "text": [
            "Train Epoch: 01 Loss= 1.715859413  Accuracy= 0.754\n"
          ],
          "name": "stdout"
        },
        {
          "output_type": "error",
          "ename": "KeyboardInterrupt",
          "evalue": "ignored",
          "traceback": [
            "\u001b[0;31m---------------------------------------------------------------------------\u001b[0m",
            "\u001b[0;31mKeyboardInterrupt\u001b[0m                         Traceback (most recent call last)",
            "\u001b[0;32m<ipython-input-81-3ce3618b167e>\u001b[0m in \u001b[0;36m<module>\u001b[0;34m()\u001b[0m\n\u001b[1;32m      5\u001b[0m         \u001b[0mbatch_x\u001b[0m\u001b[0;34m,\u001b[0m \u001b[0mbatch_y\u001b[0m \u001b[0;34m=\u001b[0m \u001b[0mmnist\u001b[0m\u001b[0;34m.\u001b[0m\u001b[0mtrain\u001b[0m\u001b[0;34m.\u001b[0m\u001b[0mnext_batch\u001b[0m\u001b[0;34m(\u001b[0m\u001b[0mbatchSize\u001b[0m\u001b[0;34m)\u001b[0m\u001b[0;34m\u001b[0m\u001b[0;34m\u001b[0m\u001b[0m\n\u001b[1;32m      6\u001b[0m         sess.run(optimizer,feed_dict={x: batch_x,\n\u001b[0;32m----> 7\u001b[0;31m                                       y_label: batch_y})\n\u001b[0m\u001b[1;32m      8\u001b[0m \u001b[0;34m\u001b[0m\u001b[0m\n\u001b[1;32m      9\u001b[0m \u001b[0;34m\u001b[0m\u001b[0m\n",
            "\u001b[0;32m/usr/local/lib/python3.6/dist-packages/tensorflow/python/client/session.py\u001b[0m in \u001b[0;36mrun\u001b[0;34m(self, fetches, feed_dict, options, run_metadata)\u001b[0m\n\u001b[1;32m    927\u001b[0m     \u001b[0;32mtry\u001b[0m\u001b[0;34m:\u001b[0m\u001b[0;34m\u001b[0m\u001b[0;34m\u001b[0m\u001b[0m\n\u001b[1;32m    928\u001b[0m       result = self._run(None, fetches, feed_dict, options_ptr,\n\u001b[0;32m--> 929\u001b[0;31m                          run_metadata_ptr)\n\u001b[0m\u001b[1;32m    930\u001b[0m       \u001b[0;32mif\u001b[0m \u001b[0mrun_metadata\u001b[0m\u001b[0;34m:\u001b[0m\u001b[0;34m\u001b[0m\u001b[0;34m\u001b[0m\u001b[0m\n\u001b[1;32m    931\u001b[0m         \u001b[0mproto_data\u001b[0m \u001b[0;34m=\u001b[0m \u001b[0mtf_session\u001b[0m\u001b[0;34m.\u001b[0m\u001b[0mTF_GetBuffer\u001b[0m\u001b[0;34m(\u001b[0m\u001b[0mrun_metadata_ptr\u001b[0m\u001b[0;34m)\u001b[0m\u001b[0;34m\u001b[0m\u001b[0;34m\u001b[0m\u001b[0m\n",
            "\u001b[0;32m/usr/local/lib/python3.6/dist-packages/tensorflow/python/client/session.py\u001b[0m in \u001b[0;36m_run\u001b[0;34m(self, handle, fetches, feed_dict, options, run_metadata)\u001b[0m\n\u001b[1;32m   1150\u001b[0m     \u001b[0;32mif\u001b[0m \u001b[0mfinal_fetches\u001b[0m \u001b[0;32mor\u001b[0m \u001b[0mfinal_targets\u001b[0m \u001b[0;32mor\u001b[0m \u001b[0;34m(\u001b[0m\u001b[0mhandle\u001b[0m \u001b[0;32mand\u001b[0m \u001b[0mfeed_dict_tensor\u001b[0m\u001b[0;34m)\u001b[0m\u001b[0;34m:\u001b[0m\u001b[0;34m\u001b[0m\u001b[0;34m\u001b[0m\u001b[0m\n\u001b[1;32m   1151\u001b[0m       results = self._do_run(handle, final_targets, final_fetches,\n\u001b[0;32m-> 1152\u001b[0;31m                              feed_dict_tensor, options, run_metadata)\n\u001b[0m\u001b[1;32m   1153\u001b[0m     \u001b[0;32melse\u001b[0m\u001b[0;34m:\u001b[0m\u001b[0;34m\u001b[0m\u001b[0;34m\u001b[0m\u001b[0m\n\u001b[1;32m   1154\u001b[0m       \u001b[0mresults\u001b[0m \u001b[0;34m=\u001b[0m \u001b[0;34m[\u001b[0m\u001b[0;34m]\u001b[0m\u001b[0;34m\u001b[0m\u001b[0;34m\u001b[0m\u001b[0m\n",
            "\u001b[0;32m/usr/local/lib/python3.6/dist-packages/tensorflow/python/client/session.py\u001b[0m in \u001b[0;36m_do_run\u001b[0;34m(self, handle, target_list, fetch_list, feed_dict, options, run_metadata)\u001b[0m\n\u001b[1;32m   1326\u001b[0m     \u001b[0;32mif\u001b[0m \u001b[0mhandle\u001b[0m \u001b[0;32mis\u001b[0m \u001b[0;32mNone\u001b[0m\u001b[0;34m:\u001b[0m\u001b[0;34m\u001b[0m\u001b[0;34m\u001b[0m\u001b[0m\n\u001b[1;32m   1327\u001b[0m       return self._do_call(_run_fn, feeds, fetches, targets, options,\n\u001b[0;32m-> 1328\u001b[0;31m                            run_metadata)\n\u001b[0m\u001b[1;32m   1329\u001b[0m     \u001b[0;32melse\u001b[0m\u001b[0;34m:\u001b[0m\u001b[0;34m\u001b[0m\u001b[0;34m\u001b[0m\u001b[0m\n\u001b[1;32m   1330\u001b[0m       \u001b[0;32mreturn\u001b[0m \u001b[0mself\u001b[0m\u001b[0;34m.\u001b[0m\u001b[0m_do_call\u001b[0m\u001b[0;34m(\u001b[0m\u001b[0m_prun_fn\u001b[0m\u001b[0;34m,\u001b[0m \u001b[0mhandle\u001b[0m\u001b[0;34m,\u001b[0m \u001b[0mfeeds\u001b[0m\u001b[0;34m,\u001b[0m \u001b[0mfetches\u001b[0m\u001b[0;34m)\u001b[0m\u001b[0;34m\u001b[0m\u001b[0;34m\u001b[0m\u001b[0m\n",
            "\u001b[0;32m/usr/local/lib/python3.6/dist-packages/tensorflow/python/client/session.py\u001b[0m in \u001b[0;36m_do_call\u001b[0;34m(self, fn, *args)\u001b[0m\n\u001b[1;32m   1332\u001b[0m   \u001b[0;32mdef\u001b[0m \u001b[0m_do_call\u001b[0m\u001b[0;34m(\u001b[0m\u001b[0mself\u001b[0m\u001b[0;34m,\u001b[0m \u001b[0mfn\u001b[0m\u001b[0;34m,\u001b[0m \u001b[0;34m*\u001b[0m\u001b[0margs\u001b[0m\u001b[0;34m)\u001b[0m\u001b[0;34m:\u001b[0m\u001b[0;34m\u001b[0m\u001b[0;34m\u001b[0m\u001b[0m\n\u001b[1;32m   1333\u001b[0m     \u001b[0;32mtry\u001b[0m\u001b[0;34m:\u001b[0m\u001b[0;34m\u001b[0m\u001b[0;34m\u001b[0m\u001b[0m\n\u001b[0;32m-> 1334\u001b[0;31m       \u001b[0;32mreturn\u001b[0m \u001b[0mfn\u001b[0m\u001b[0;34m(\u001b[0m\u001b[0;34m*\u001b[0m\u001b[0margs\u001b[0m\u001b[0;34m)\u001b[0m\u001b[0;34m\u001b[0m\u001b[0;34m\u001b[0m\u001b[0m\n\u001b[0m\u001b[1;32m   1335\u001b[0m     \u001b[0;32mexcept\u001b[0m \u001b[0merrors\u001b[0m\u001b[0;34m.\u001b[0m\u001b[0mOpError\u001b[0m \u001b[0;32mas\u001b[0m \u001b[0me\u001b[0m\u001b[0;34m:\u001b[0m\u001b[0;34m\u001b[0m\u001b[0;34m\u001b[0m\u001b[0m\n\u001b[1;32m   1336\u001b[0m       \u001b[0mmessage\u001b[0m \u001b[0;34m=\u001b[0m \u001b[0mcompat\u001b[0m\u001b[0;34m.\u001b[0m\u001b[0mas_text\u001b[0m\u001b[0;34m(\u001b[0m\u001b[0me\u001b[0m\u001b[0;34m.\u001b[0m\u001b[0mmessage\u001b[0m\u001b[0;34m)\u001b[0m\u001b[0;34m\u001b[0m\u001b[0;34m\u001b[0m\u001b[0m\n",
            "\u001b[0;32m/usr/local/lib/python3.6/dist-packages/tensorflow/python/client/session.py\u001b[0m in \u001b[0;36m_run_fn\u001b[0;34m(feed_dict, fetch_list, target_list, options, run_metadata)\u001b[0m\n\u001b[1;32m   1317\u001b[0m       \u001b[0mself\u001b[0m\u001b[0;34m.\u001b[0m\u001b[0m_extend_graph\u001b[0m\u001b[0;34m(\u001b[0m\u001b[0;34m)\u001b[0m\u001b[0;34m\u001b[0m\u001b[0;34m\u001b[0m\u001b[0m\n\u001b[1;32m   1318\u001b[0m       return self._call_tf_sessionrun(\n\u001b[0;32m-> 1319\u001b[0;31m           options, feed_dict, fetch_list, target_list, run_metadata)\n\u001b[0m\u001b[1;32m   1320\u001b[0m \u001b[0;34m\u001b[0m\u001b[0m\n\u001b[1;32m   1321\u001b[0m     \u001b[0;32mdef\u001b[0m \u001b[0m_prun_fn\u001b[0m\u001b[0;34m(\u001b[0m\u001b[0mhandle\u001b[0m\u001b[0;34m,\u001b[0m \u001b[0mfeed_dict\u001b[0m\u001b[0;34m,\u001b[0m \u001b[0mfetch_list\u001b[0m\u001b[0;34m)\u001b[0m\u001b[0;34m:\u001b[0m\u001b[0;34m\u001b[0m\u001b[0;34m\u001b[0m\u001b[0m\n",
            "\u001b[0;32m/usr/local/lib/python3.6/dist-packages/tensorflow/python/client/session.py\u001b[0m in \u001b[0;36m_call_tf_sessionrun\u001b[0;34m(self, options, feed_dict, fetch_list, target_list, run_metadata)\u001b[0m\n\u001b[1;32m   1405\u001b[0m     return tf_session.TF_SessionRun_wrapper(\n\u001b[1;32m   1406\u001b[0m         \u001b[0mself\u001b[0m\u001b[0;34m.\u001b[0m\u001b[0m_session\u001b[0m\u001b[0;34m,\u001b[0m \u001b[0moptions\u001b[0m\u001b[0;34m,\u001b[0m \u001b[0mfeed_dict\u001b[0m\u001b[0;34m,\u001b[0m \u001b[0mfetch_list\u001b[0m\u001b[0;34m,\u001b[0m \u001b[0mtarget_list\u001b[0m\u001b[0;34m,\u001b[0m\u001b[0;34m\u001b[0m\u001b[0;34m\u001b[0m\u001b[0m\n\u001b[0;32m-> 1407\u001b[0;31m         run_metadata)\n\u001b[0m\u001b[1;32m   1408\u001b[0m \u001b[0;34m\u001b[0m\u001b[0m\n\u001b[1;32m   1409\u001b[0m   \u001b[0;32mdef\u001b[0m \u001b[0m_call_tf_sessionprun\u001b[0m\u001b[0;34m(\u001b[0m\u001b[0mself\u001b[0m\u001b[0;34m,\u001b[0m \u001b[0mhandle\u001b[0m\u001b[0;34m,\u001b[0m \u001b[0mfeed_dict\u001b[0m\u001b[0;34m,\u001b[0m \u001b[0mfetch_list\u001b[0m\u001b[0;34m)\u001b[0m\u001b[0;34m:\u001b[0m\u001b[0;34m\u001b[0m\u001b[0;34m\u001b[0m\u001b[0m\n",
            "\u001b[0;31mKeyboardInterrupt\u001b[0m: "
          ]
        }
      ]
    },
    {
      "metadata": {
        "id": "pOFi7L81Fu1z",
        "colab_type": "code",
        "colab": {}
      },
      "cell_type": "code",
      "source": [
        "%matplotlib inline\n",
        "import matplotlib.pyplot as plt\n",
        "fig = plt.gcf()\n",
        "fig.set_size_inches(4,2)\n",
        "plt.plot(epoch_list, loss_list, label = 'loss')\n",
        "plt.ylabel('loss')\n",
        "plt.xlabel('epoch')\n",
        "plt.legend(['loss'], loc='upper left')"
      ],
      "execution_count": 0,
      "outputs": []
    },
    {
      "metadata": {
        "id": "CtuOWOfnFu11",
        "colab_type": "code",
        "colab": {}
      },
      "cell_type": "code",
      "source": [
        "plt.plot(epoch_list, accuracy_list,label=\"accuracy\" )\n",
        "fig = plt.gcf()\n",
        "fig.set_size_inches(4,2)\n",
        "plt.ylim(0.8,1)\n",
        "plt.ylabel('accuracy')\n",
        "plt.xlabel('epoch')\n",
        "plt.legend()\n",
        "plt.show()\n"
      ],
      "execution_count": 0,
      "outputs": []
    },
    {
      "metadata": {
        "id": "oFZ_w0YuFu14",
        "colab_type": "text"
      },
      "cell_type": "markdown",
      "source": [
        "# 評估模型準確率"
      ]
    },
    {
      "metadata": {
        "id": "G6Suzn5lFu14",
        "colab_type": "code",
        "colab": {}
      },
      "cell_type": "code",
      "source": [
        "len(mnist.test.images)"
      ],
      "execution_count": 0,
      "outputs": []
    },
    {
      "metadata": {
        "id": "Rjgo0GdmFu17",
        "colab_type": "code",
        "colab": {}
      },
      "cell_type": "code",
      "source": [
        "print(\"Accuracy:\", \n",
        "      sess.run(accuracy,feed_dict={x: mnist.test.images,\n",
        "                                   y_label: mnist.test.labels}))"
      ],
      "execution_count": 0,
      "outputs": []
    },
    {
      "metadata": {
        "id": "jM26aIHIFu19",
        "colab_type": "code",
        "colab": {}
      },
      "cell_type": "code",
      "source": [
        "print(\"Accuracy:\", \n",
        "      sess.run(accuracy,feed_dict={x: mnist.test.images[:5000],\n",
        "                                   y_label: mnist.test.labels[:5000]}))\n"
      ],
      "execution_count": 0,
      "outputs": []
    },
    {
      "metadata": {
        "id": "wRzDRuXpFu2A",
        "colab_type": "code",
        "colab": {}
      },
      "cell_type": "code",
      "source": [
        "print(\"Accuracy:\", \n",
        "      sess.run(accuracy,feed_dict={x: mnist.test.images[5000:],\n",
        "                                   y_label: mnist.test.labels[5000:]}))"
      ],
      "execution_count": 0,
      "outputs": []
    },
    {
      "metadata": {
        "id": "E8MGwQ0TFu2C",
        "colab_type": "text"
      },
      "cell_type": "markdown",
      "source": [
        "# 預測機率"
      ]
    },
    {
      "metadata": {
        "id": "k8-rKIhjFu2C",
        "colab_type": "code",
        "colab": {}
      },
      "cell_type": "code",
      "source": [
        "#y_predict=sess.run(y_predict, \n",
        "#                  feed_dict={x: mnist.test.images[:5000]})\n",
        "print(mnist.test.images[0].shape)"
      ],
      "execution_count": 0,
      "outputs": []
    },
    {
      "metadata": {
        "id": "YpVT577zFu2E",
        "colab_type": "code",
        "colab": {}
      },
      "cell_type": "code",
      "source": [
        "y_predict[:5]"
      ],
      "execution_count": 0,
      "outputs": []
    },
    {
      "metadata": {
        "id": "YXdhnfNGh49P",
        "colab_type": "code",
        "colab": {}
      },
      "cell_type": "code",
      "source": [
        ""
      ],
      "execution_count": 0,
      "outputs": []
    },
    {
      "metadata": {
        "id": "8C0VGmDaFu2H",
        "colab_type": "text"
      },
      "cell_type": "markdown",
      "source": [
        "# 預測結果"
      ]
    },
    {
      "metadata": {
        "id": "UTtRnP6qFu2I",
        "colab_type": "code",
        "colab": {}
      },
      "cell_type": "code",
      "source": [
        "prediction_result=sess.run(tf.argmax(y_predict,1),\n",
        "                           feed_dict={x: mnist.test.images ,\n",
        "                                      y_label: mnist.test.labels})"
      ],
      "execution_count": 0,
      "outputs": []
    },
    {
      "metadata": {
        "id": "t2X_0AH4Fu2L",
        "colab_type": "code",
        "colab": {}
      },
      "cell_type": "code",
      "source": [
        "prediction_result[:10]"
      ],
      "execution_count": 0,
      "outputs": []
    },
    {
      "metadata": {
        "id": "nUYs1lfXFu2N",
        "colab_type": "code",
        "colab": {}
      },
      "cell_type": "code",
      "source": [
        "import numpy as np\n",
        "def show_images_labels_predict(images,labels,prediction_result):\n",
        "    fig = plt.gcf()\n",
        "    fig.set_size_inches(8, 10)\n",
        "    for i in range(0, 10):\n",
        "        ax=plt.subplot(5,5, 1+i)\n",
        "        ax.imshow(np.reshape(images[i],(28, 28)), \n",
        "                  cmap='binary')\n",
        "        ax.set_title(\"label=\" +str(np.argmax(labels[i]))+\n",
        "                     \",predict=\"+str(prediction_result[i])\n",
        "                     ,fontsize=9) \n",
        "    plt.show()"
      ],
      "execution_count": 0,
      "outputs": []
    },
    {
      "metadata": {
        "id": "OG9Uyi1yFu2P",
        "colab_type": "code",
        "colab": {}
      },
      "cell_type": "code",
      "source": [
        "show_images_labels_predict(mnist.test.images,mnist.test.labels,prediction_result)"
      ],
      "execution_count": 0,
      "outputs": []
    },
    {
      "metadata": {
        "id": "cgAO55_7Fu2S",
        "colab_type": "text"
      },
      "cell_type": "markdown",
      "source": [
        "# 找出預測錯誤"
      ]
    },
    {
      "metadata": {
        "id": "CTa2z2GpFu2T",
        "colab_type": "code",
        "colab": {}
      },
      "cell_type": "code",
      "source": [
        "for i in range(500):\n",
        "    if prediction_result[i]!=np.argmax(mnist.test.labels[i]):\n",
        "        print(\"i=\"+str(i)+\n",
        "              \"   label=\",np.argmax(mnist.test.labels[i]),\n",
        "              \"predict=\",prediction_result[i])"
      ],
      "execution_count": 0,
      "outputs": []
    },
    {
      "metadata": {
        "id": "EU46YnHsFu2W",
        "colab_type": "code",
        "colab": {}
      },
      "cell_type": "code",
      "source": [
        "def show_images_labels_predict_error(images,labels,prediction_result):\n",
        "    fig = plt.gcf()\n",
        "    fig.set_size_inches(8, 10)\n",
        "    i=0;j=0\n",
        "    while i<10:\n",
        "        if prediction_result[j]!=np.argmax(labels[j]):\n",
        "            ax=plt.subplot(5,5, 1+i)\n",
        "            ax.imshow(np.reshape(images[j],(28, 28)), \n",
        "                      cmap='binary')\n",
        "            ax.set_title(\"j=\"+str(j)+\n",
        "                         \",l=\" +str(np.argmax(labels[j]))+\n",
        "                         \",p=\"+str(prediction_result[j])\n",
        "                         ,fontsize=9) \n",
        "            i=i+1  \n",
        "        j=j+1\n",
        "    plt.show()"
      ],
      "execution_count": 0,
      "outputs": []
    },
    {
      "metadata": {
        "id": "SnYotEoEFu2Y",
        "colab_type": "code",
        "colab": {}
      },
      "cell_type": "code",
      "source": [
        "show_images_labels_predict_error(mnist.test.images,mnist.test.labels,prediction_result)"
      ],
      "execution_count": 0,
      "outputs": []
    },
    {
      "metadata": {
        "id": "r5YUfPJnFu2b",
        "colab_type": "code",
        "colab": {}
      },
      "cell_type": "code",
      "source": [
        "saver = tf.train.Saver()"
      ],
      "execution_count": 0,
      "outputs": []
    },
    {
      "metadata": {
        "id": "Zzbfw2jeFu2f",
        "colab_type": "code",
        "colab": {}
      },
      "cell_type": "code",
      "source": [
        "save_path = saver.save(sess, \"saveModel/CNN_model1\")"
      ],
      "execution_count": 0,
      "outputs": []
    },
    {
      "metadata": {
        "id": "eWzLlRMVFu2h",
        "colab_type": "code",
        "colab": {}
      },
      "cell_type": "code",
      "source": [
        "print(\"Model saved in file: %s\" % save_path)"
      ],
      "execution_count": 0,
      "outputs": []
    },
    {
      "metadata": {
        "id": "br5p_S-kFu2k",
        "colab_type": "code",
        "colab": {}
      },
      "cell_type": "code",
      "source": [
        "merged = tf.summary.merge_all()\n",
        "train_writer = tf.summary.FileWriter('log/CNN',sess.graph)"
      ],
      "execution_count": 0,
      "outputs": []
    },
    {
      "metadata": {
        "id": "-_kBcY-XFu2l",
        "colab_type": "code",
        "colab": {}
      },
      "cell_type": "code",
      "source": [
        "#sess.close()"
      ],
      "execution_count": 0,
      "outputs": []
    },
    {
      "metadata": {
        "id": "YOdXpA7bQ2Vf",
        "colab_type": "code",
        "colab": {}
      },
      "cell_type": "code",
      "source": [
        "from google.colab import drive\n",
        "drive.mount('/content/drive/')"
      ],
      "execution_count": 0,
      "outputs": []
    },
    {
      "metadata": {
        "id": "qZsfL_aBRoMO",
        "colab_type": "code",
        "colab": {}
      },
      "cell_type": "code",
      "source": [
        "import os\n",
        "os.chdir('/content/drive/My Drive/ColabNotebooks')\n",
        "cwd = os.getced()\n",
        "print(cwd)\n",
        "!ls"
      ],
      "execution_count": 0,
      "outputs": []
    },
    {
      "metadata": {
        "id": "kJ814UPATlzH",
        "colab_type": "code",
        "colab": {}
      },
      "cell_type": "code",
      "source": [
        "cd \"/content/drive/My Drive/Colab Notebooks/\""
      ],
      "execution_count": 0,
      "outputs": []
    },
    {
      "metadata": {
        "id": "lOn0JR6DUB4Q",
        "colab_type": "code",
        "colab": {}
      },
      "cell_type": "code",
      "source": [
        "! ls"
      ],
      "execution_count": 0,
      "outputs": []
    },
    {
      "metadata": {
        "id": "HMcx_qb_UEGn",
        "colab_type": "code",
        "colab": {}
      },
      "cell_type": "code",
      "source": [
        "# plot image\n",
        "import matplotlib.pyplot as plt\n",
        "from matplotlib.image import imread\n",
        "\n",
        "img = imread('p2.png') # 画像の読み込み\n",
        "img=1.0-img[:,:,0]\n",
        "plt.imshow(img)\n",
        "print(img.shape)\n",
        "#print(img)\n",
        "#print(mnist.test.images[0].shape)\n",
        "#img0=np.reshape(mnist.test.images[0],(28,28))\n",
        "#plt.imshow(img0)\n",
        "#print(img0.shape)\n",
        "\n",
        "plt.show()"
      ],
      "execution_count": 0,
      "outputs": []
    },
    {
      "metadata": {
        "id": "aXLmP2aHay0W",
        "colab_type": "code",
        "outputId": "922ad034-a6ed-4de2-f2db-ecb321e09c00",
        "colab": {
          "base_uri": "https://localhost:8080/",
          "height": 34
        }
      },
      "cell_type": "code",
      "source": [
        "img=img.reshape(784)\n",
        "print(img.shape)\n",
        "mnist.test.images[0]=img\n",
        "#y_predict=sess.run(y_predict,feed_dict={x: mnist.test.images[:5]})\n",
        "y_predict0=sess.run(y_predict,feed_dict={x: mnist.test.images[:5]})\n"
      ],
      "execution_count": 0,
      "outputs": [
        {
          "output_type": "stream",
          "text": [
            "(784,)\n"
          ],
          "name": "stdout"
        }
      ]
    },
    {
      "metadata": {
        "id": "nCHbNV3Sh989",
        "colab_type": "code",
        "outputId": "d97d5b65-da57-4a90-c7f8-d9bb48740011",
        "colab": {
          "base_uri": "https://localhost:8080/",
          "height": 272
        }
      },
      "cell_type": "code",
      "source": [
        "y_predict0[:5]"
      ],
      "execution_count": 0,
      "outputs": [
        {
          "output_type": "execute_result",
          "data": {
            "text/plain": [
              "array([[1.36249710e-07, 8.24231449e-07, 9.97278392e-01, 2.41950806e-03,\n",
              "        2.60793004e-05, 4.49243686e-07, 1.65038819e-05, 4.02385012e-07,\n",
              "        1.44500145e-05, 2.43211151e-04],\n",
              "       [4.54329274e-05, 8.28186501e-07, 9.99919772e-01, 7.81964627e-06,\n",
              "        3.04748306e-13, 1.66798825e-10, 1.49371645e-05, 1.45213312e-11,\n",
              "        1.11478430e-05, 4.38156178e-08],\n",
              "       [2.97268052e-05, 9.99066293e-01, 2.98691331e-04, 1.51084998e-04,\n",
              "        6.53268798e-05, 5.44813156e-06, 9.26918874e-05, 8.88652212e-05,\n",
              "        1.54089867e-04, 4.77877402e-05],\n",
              "       [9.99840617e-01, 4.62204663e-10, 8.33685618e-08, 1.42653196e-04,\n",
              "        1.42661074e-08, 4.09720524e-09, 8.59744148e-07, 7.89111823e-07,\n",
              "        1.47775090e-05, 7.51557820e-08],\n",
              "       [1.21703415e-05, 2.29115642e-07, 1.67847902e-05, 2.71970680e-06,\n",
              "        9.99066412e-01, 7.42262491e-05, 4.47925762e-04, 1.38344112e-04,\n",
              "        2.20599395e-04, 2.06272034e-05]], dtype=float32)"
            ]
          },
          "metadata": {
            "tags": []
          },
          "execution_count": 84
        }
      ]
    },
    {
      "metadata": {
        "id": "vDE-lCI2k6n-",
        "colab_type": "text"
      },
      "cell_type": "markdown",
      "source": [
        "張智凱 10530014"
      ]
    }
  ]
}